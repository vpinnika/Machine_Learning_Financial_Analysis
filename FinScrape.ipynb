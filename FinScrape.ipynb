{
 "cells": [
  {
   "cell_type": "code",
   "execution_count": 1,
   "metadata": {},
   "outputs": [],
   "source": [
    "import pandas as pd\n",
    "import json\n",
    "import requests"
   ]
  },
  {
   "cell_type": "code",
   "execution_count": 24,
   "metadata": {},
   "outputs": [],
   "source": [
    "stock = 'AAPL'\n",
    "url = f'https://finviz.com/quote.ashx?t={stock}'\n",
    "header = {\n",
    "  \"User-Agent\": \"Mozilla/5.0 (X11; Linux x86_64) AppleWebKit/537.36 (KHTML, like Gecko) Chrome/50.0.2661.75 Safari/537.36\",\n",
    "  \"X-Requested-With\": \"XMLHttpRequest\"\n",
    "}\n",
    "r = requests.get(url, headers=header)\n",
    "dfs = pd.read_html(r.text)\n",
    "\n",
    "df = dfs[6]\n",
    "json = df.to_json()"
   ]
  },
  {
   "cell_type": "code",
   "execution_count": 103,
   "metadata": {},
   "outputs": [],
   "source": [
    "col1 = df[[0,1]].set_index(0)[1]\n",
    "marketCap = col1['Market Cap']"
   ]
  },
  {
   "cell_type": "code",
   "execution_count": 101,
   "metadata": {},
   "outputs": [],
   "source": [
    "col2 = df[[10,11]].set_index(10)[11]\n",
    "col2\n",
    "price = col2['Price']\n",
    "dailyChange = col2['Change']\n",
    "week = col2['Perf Week']\n",
    "month = col2['Perf Month']\n",
    "quarter = col2['Perf Quarter']"
   ]
  },
  {
   "cell_type": "code",
   "execution_count": 105,
   "metadata": {},
   "outputs": [],
   "source": [
    "data = {\n",
    "    'cap': marketCap,\n",
    "    'price': price,\n",
    "    'day': dailyChange,\n",
    "    'week': week,\n",
    "    'month': month,\n",
    "    'quarter': quarter\n",
    "}"
   ]
  },
  {
   "cell_type": "code",
   "execution_count": 109,
   "metadata": {},
   "outputs": [],
   "source": [
    "def scrape(stock):\n",
    "    url = f'https://finviz.com/quote.ashx?t={stock}'\n",
    "    header = {\n",
    "      \"User-Agent\": \"Mozilla/5.0 (X11; Linux x86_64) AppleWebKit/537.36 (KHTML, like Gecko) Chrome/50.0.2661.75 Safari/537.36\",\n",
    "      \"X-Requested-With\": \"XMLHttpRequest\"\n",
    "    }\n",
    "    r = requests.get(url, headers=header)\n",
    "    dfs = pd.read_html(r.text)\n",
    "\n",
    "    df = dfs[6]\n",
    "    col1 = df[[0,1]].set_index(0)[1]\n",
    "    marketCap = col1['Market Cap']\n",
    "    col2 = df[[10,11]].set_index(10)[11]\n",
    "    col2\n",
    "    price = col2['Price']\n",
    "    dailyChange = col2['Change']\n",
    "    week = col2['Perf Week']\n",
    "    month = col2['Perf Month']\n",
    "    quarter = col2['Perf Quarter']\n",
    "    data = {\n",
    "        'cap': marketCap,\n",
    "        'price': price,\n",
    "        'day': dailyChange,\n",
    "        'week': week,\n",
    "        'month': month,\n",
    "        'quarter': quarter\n",
    "    }\n",
    "    return data\n"
   ]
  },
  {
   "cell_type": "code",
   "execution_count": 112,
   "metadata": {},
   "outputs": [
    {
     "data": {
      "text/plain": [
       "{'cap': '97.93B',\n",
       " 'price': '77.95',\n",
       " 'day': '-3.53%',\n",
       " 'week': '-1.50%',\n",
       " 'month': '3.55%',\n",
       " 'quarter': '15.04%'}"
      ]
     },
     "execution_count": 112,
     "metadata": {},
     "output_type": "execute_result"
    }
   ],
   "source": [
    "scrape('GILD')"
   ]
  },
  {
   "cell_type": "code",
   "execution_count": null,
   "metadata": {},
   "outputs": [],
   "source": []
  }
 ],
 "metadata": {
  "kernelspec": {
   "display_name": "Python 3",
   "language": "python",
   "name": "python3"
  },
  "language_info": {
   "codemirror_mode": {
    "name": "ipython",
    "version": 3
   },
   "file_extension": ".py",
   "mimetype": "text/x-python",
   "name": "python",
   "nbconvert_exporter": "python",
   "pygments_lexer": "ipython3",
   "version": "3.7.4"
  }
 },
 "nbformat": 4,
 "nbformat_minor": 2
}
