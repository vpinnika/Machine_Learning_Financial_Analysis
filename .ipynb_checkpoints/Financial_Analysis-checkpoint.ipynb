{
 "cells": [
  {
   "cell_type": "code",
   "execution_count": 1,
   "metadata": {},
   "outputs": [],
   "source": [
    "# Importing dependencies\n",
    "import pandas as pd\n",
    "import datetime\n",
    "from pandas import Series, DataFrame\n",
    "## Note: Install pandas_datareader\n",
    "## pip install pandas-datareader\n",
    "import pandas_datareader.data as web\n",
    "%matplotlib inline\n",
    "import matplotlib as mpl\n",
    "import matplotlib.pyplot as plt\n",
    "from matplotlib import style"
   ]
  },
  {
   "cell_type": "code",
   "execution_count": 2,
   "metadata": {},
   "outputs": [
    {
     "data": {
      "text/html": [
       "<div>\n",
       "<style scoped>\n",
       "    .dataframe tbody tr th:only-of-type {\n",
       "        vertical-align: middle;\n",
       "    }\n",
       "\n",
       "    .dataframe tbody tr th {\n",
       "        vertical-align: top;\n",
       "    }\n",
       "\n",
       "    .dataframe thead th {\n",
       "        text-align: right;\n",
       "    }\n",
       "</style>\n",
       "<table border=\"1\" class=\"dataframe\">\n",
       "  <thead>\n",
       "    <tr style=\"text-align: right;\">\n",
       "      <th></th>\n",
       "      <th>High</th>\n",
       "      <th>Low</th>\n",
       "      <th>Open</th>\n",
       "      <th>Close</th>\n",
       "      <th>Volume</th>\n",
       "      <th>Adj Close</th>\n",
       "    </tr>\n",
       "    <tr>\n",
       "      <th>Date</th>\n",
       "      <th></th>\n",
       "      <th></th>\n",
       "      <th></th>\n",
       "      <th></th>\n",
       "      <th></th>\n",
       "      <th></th>\n",
       "    </tr>\n",
       "  </thead>\n",
       "  <tbody>\n",
       "    <tr>\n",
       "      <th>2020-04-28</th>\n",
       "      <td>189.199997</td>\n",
       "      <td>182.559998</td>\n",
       "      <td>188.660004</td>\n",
       "      <td>182.910004</td>\n",
       "      <td>21731000</td>\n",
       "      <td>182.910004</td>\n",
       "    </tr>\n",
       "    <tr>\n",
       "      <th>2020-04-29</th>\n",
       "      <td>196.910004</td>\n",
       "      <td>190.000000</td>\n",
       "      <td>190.929993</td>\n",
       "      <td>194.190002</td>\n",
       "      <td>45954500</td>\n",
       "      <td>194.190002</td>\n",
       "    </tr>\n",
       "    <tr>\n",
       "      <th>2020-04-30</th>\n",
       "      <td>209.690002</td>\n",
       "      <td>201.570007</td>\n",
       "      <td>206.919998</td>\n",
       "      <td>204.710007</td>\n",
       "      <td>46230100</td>\n",
       "      <td>204.710007</td>\n",
       "    </tr>\n",
       "    <tr>\n",
       "      <th>2020-05-01</th>\n",
       "      <td>207.279999</td>\n",
       "      <td>199.050003</td>\n",
       "      <td>201.600006</td>\n",
       "      <td>202.270004</td>\n",
       "      <td>30415600</td>\n",
       "      <td>202.270004</td>\n",
       "    </tr>\n",
       "    <tr>\n",
       "      <th>2020-05-04</th>\n",
       "      <td>205.910004</td>\n",
       "      <td>198.759995</td>\n",
       "      <td>200.199997</td>\n",
       "      <td>205.259995</td>\n",
       "      <td>19234100</td>\n",
       "      <td>205.259995</td>\n",
       "    </tr>\n",
       "  </tbody>\n",
       "</table>\n",
       "</div>"
      ],
      "text/plain": [
       "                  High         Low        Open       Close    Volume  \\\n",
       "Date                                                                   \n",
       "2020-04-28  189.199997  182.559998  188.660004  182.910004  21731000   \n",
       "2020-04-29  196.910004  190.000000  190.929993  194.190002  45954500   \n",
       "2020-04-30  209.690002  201.570007  206.919998  204.710007  46230100   \n",
       "2020-05-01  207.279999  199.050003  201.600006  202.270004  30415600   \n",
       "2020-05-04  205.910004  198.759995  200.199997  205.259995  19234100   \n",
       "\n",
       "             Adj Close  \n",
       "Date                    \n",
       "2020-04-28  182.910004  \n",
       "2020-04-29  194.190002  \n",
       "2020-04-30  204.710007  \n",
       "2020-05-01  202.270004  \n",
       "2020-05-04  205.259995  "
      ]
     },
     "execution_count": 2,
     "metadata": {},
     "output_type": "execute_result"
    }
   ],
   "source": [
    "## Loading Yahoo Finance data set form 2016\n",
    "# Get start and end dates \n",
    "start_date = datetime.datetime(2016, 1, 1)\n",
    "## Select today's date as end date\n",
    "end_date = datetime.datetime.now().date().isoformat() \n",
    "\n",
    "stocks_df = web.DataReader('FB', 'yahoo', start_date, end_date)\n",
    "\n",
    "# Displaying letest 5 records\n",
    "stocks_df.tail()"
   ]
  },
  {
   "cell_type": "code",
   "execution_count": 3,
   "metadata": {},
   "outputs": [
    {
     "data": {
      "text/plain": [
       "Date\n",
       "2016-01-04    102.220001\n",
       "2016-01-05    102.730003\n",
       "2016-01-06    102.970001\n",
       "2016-01-07     97.919998\n",
       "2016-01-08     97.330002\n",
       "Name: Adj Close, dtype: float64"
      ]
     },
     "execution_count": 3,
     "metadata": {},
     "output_type": "execute_result"
    }
   ],
   "source": [
    "## Getting Final Closing price\n",
    "closing_price_df= stocks_df['Adj Close']\n",
    "\n",
    "closing_price_df.index = pd.to_datetime(closing_price_df.index)\n",
    "\n",
    "closing_price_df.tail()\n",
    "\n",
    "closing_price_df.head()"
   ]
  },
  {
   "cell_type": "code",
   "execution_count": 4,
   "metadata": {},
   "outputs": [
    {
     "data": {
      "text/plain": [
       "Date\n",
       "2016-03-15    103.8656\n",
       "2016-03-16    104.0648\n",
       "2016-03-17    104.2306\n",
       "2016-03-18    104.4002\n",
       "2016-03-21    104.6788\n",
       "Name: Adj Close, dtype: float64"
      ]
     },
     "execution_count": 4,
     "metadata": {},
     "output_type": "execute_result"
    }
   ],
   "source": [
    "## Calculate 50 day Moving Average\n",
    "ma_50day= closing_price_df.rolling(window=50).mean()\n",
    "\n",
    "ma_50day.index = pd.to_datetime(ma_50day.index)\n",
    "\n",
    "## Removing NULL Coulumns\n",
    "ma_50day.dropna(inplace=True)\n",
    "ma_50day.head()\n",
    "\n",
    "ma_50day.head()"
   ]
  },
  {
   "cell_type": "code",
   "execution_count": 5,
   "metadata": {},
   "outputs": [
    {
     "data": {
      "text/plain": [
       "Date\n",
       "2016-10-17    115.85225\n",
       "2016-10-18    115.98400\n",
       "2016-10-19    116.12090\n",
       "2016-10-20    116.25605\n",
       "2016-10-21    116.42680\n",
       "Name: Adj Close, dtype: float64"
      ]
     },
     "execution_count": 5,
     "metadata": {},
     "output_type": "execute_result"
    }
   ],
   "source": [
    "## Calculate 200 day Moving Average\n",
    "ma_200day= closing_price_df.rolling(window=200).mean()\n",
    "\n",
    "ma_200day.index = pd.to_datetime(ma_200day.index)\n",
    "\n",
    "## Removing NULL Coulumns\n",
    "ma_200day.dropna(inplace=True)\n",
    "ma_200day.head()\n",
    "\n",
    "ma_200day.head()"
   ]
  },
  {
   "cell_type": "code",
   "execution_count": 6,
   "metadata": {},
   "outputs": [
    {
     "name": "stderr",
     "output_type": "stream",
     "text": [
      "/opt/anaconda3/envs/PythonData/lib/python3.6/site-packages/pandas/plotting/_matplotlib/converter.py:103: FutureWarning: Using an implicitly registered datetime converter for a matplotlib plotting method. The converter was registered by pandas on import. Future versions of pandas will require you to explicitly register matplotlib converters.\n",
      "\n",
      "To register the converters:\n",
      "\t>>> from pandas.plotting import register_matplotlib_converters\n",
      "\t>>> register_matplotlib_converters()\n",
      "  warnings.warn(msg, FutureWarning)\n"
     ]
    },
    {
     "data": {
      "image/png": "[encoded data removed]",
      "text/plain": [
       "<Figure size 864x432 with 1 Axes>"
      ]
     },
     "metadata": {
      "needs_background": "light"
     },
     "output_type": "display_data"
    }
   ],
   "source": [
    "## Displaying Closing Price and Moving Average in Charts\n",
    "\n",
    "#The size for our chart:\n",
    "plt.figure(figsize = (12,6))\n",
    "#Plotting price and SMA lines:\n",
    "plt.plot(closing_price_df, label='Adj Closing Price', linewidth = 2)\n",
    "plt.plot(ma_50day, label='50 Day SMA', linewidth = 1.5)\n",
    "plt.plot(ma_200day, label='200 Day SMA', linewidth = 1.5)\n",
    "#Adding title and labeles on the axes, making legend visible:\n",
    "plt.xlabel('Date')\n",
    "plt.ylabel('Adjusted Closing Price ($)')\n",
    "plt.title('Simple Moving Average')\n",
    "plt.legend()\n",
    "plt.show()"
   ]
  },
  {
   "cell_type": "code",
   "execution_count": 14,
   "metadata": {},
   "outputs": [
    {
     "ename": "NameError",
     "evalue": "name 'close_px' is not defined",
     "output_type": "error",
     "traceback": [
      "\u001b[0;31m---------------------------------------------------------------------------\u001b[0m",
      "\u001b[0;31mNameError\u001b[0m                                 Traceback (most recent call last)",
      "\u001b[0;32m<ipython-input-14-1ccd93523132>\u001b[0m in \u001b[0;36m<module>\u001b[0;34m\u001b[0m\n\u001b[0;32m----> 1\u001b[0;31m \u001b[0mrets\u001b[0m \u001b[0;34m=\u001b[0m \u001b[0mclose_px\u001b[0m \u001b[0;34m/\u001b[0m \u001b[0mclose_px\u001b[0m\u001b[0;34m.\u001b[0m\u001b[0mshift\u001b[0m\u001b[0;34m(\u001b[0m\u001b[0;36m1\u001b[0m\u001b[0;34m)\u001b[0m \u001b[0;34m-\u001b[0m \u001b[0;36m1\u001b[0m\u001b[0;34m\u001b[0m\u001b[0;34m\u001b[0m\u001b[0m\n\u001b[0m\u001b[1;32m      2\u001b[0m \u001b[0mrets\u001b[0m\u001b[0;34m.\u001b[0m\u001b[0mplot\u001b[0m\u001b[0;34m(\u001b[0m\u001b[0mlabel\u001b[0m\u001b[0;34m=\u001b[0m\u001b[0;34m'return'\u001b[0m\u001b[0;34m)\u001b[0m\u001b[0;34m\u001b[0m\u001b[0;34m\u001b[0m\u001b[0m\n\u001b[1;32m      3\u001b[0m \u001b[0mplt\u001b[0m\u001b[0;34m.\u001b[0m\u001b[0mshow\u001b[0m\u001b[0;34m(\u001b[0m\u001b[0;34m)\u001b[0m\u001b[0;34m\u001b[0m\u001b[0;34m\u001b[0m\u001b[0m\n",
      "\u001b[0;31mNameError\u001b[0m: name 'close_px' is not defined"
     ]
    }
   ],
   "source": [
    "rets = close_px / close_px.shift(1) - 1\n",
    "rets.plot(label='return')\n",
    "plt.show()"
   ]
  },
  {
   "cell_type": "code",
   "execution_count": 7,
   "metadata": {},
   "outputs": [
    {
     "data": {
      "text/html": [
       "<div>\n",
       "<style scoped>\n",
       "    .dataframe tbody tr th:only-of-type {\n",
       "        vertical-align: middle;\n",
       "    }\n",
       "\n",
       "    .dataframe tbody tr th {\n",
       "        vertical-align: top;\n",
       "    }\n",
       "\n",
       "    .dataframe thead th {\n",
       "        text-align: right;\n",
       "    }\n",
       "</style>\n",
       "<table border=\"1\" class=\"dataframe\">\n",
       "  <thead>\n",
       "    <tr style=\"text-align: right;\">\n",
       "      <th>Symbols</th>\n",
       "      <th>AMZN</th>\n",
       "      <th>GOOG</th>\n",
       "      <th>IBM</th>\n",
       "      <th>MSFT</th>\n",
       "    </tr>\n",
       "    <tr>\n",
       "      <th>Date</th>\n",
       "      <th></th>\n",
       "      <th></th>\n",
       "      <th></th>\n",
       "      <th></th>\n",
       "    </tr>\n",
       "  </thead>\n",
       "  <tbody>\n",
       "    <tr>\n",
       "      <th>2016-01-04</th>\n",
       "      <td>636.989990</td>\n",
       "      <td>741.840027</td>\n",
       "      <td>112.821960</td>\n",
       "      <td>50.398834</td>\n",
       "    </tr>\n",
       "    <tr>\n",
       "      <th>2016-01-05</th>\n",
       "      <td>633.789978</td>\n",
       "      <td>742.580017</td>\n",
       "      <td>112.738976</td>\n",
       "      <td>50.628761</td>\n",
       "    </tr>\n",
       "    <tr>\n",
       "      <th>2016-01-06</th>\n",
       "      <td>632.650024</td>\n",
       "      <td>743.619995</td>\n",
       "      <td>112.174667</td>\n",
       "      <td>49.709072</td>\n",
       "    </tr>\n",
       "    <tr>\n",
       "      <th>2016-01-07</th>\n",
       "      <td>607.940002</td>\n",
       "      <td>726.390015</td>\n",
       "      <td>110.257637</td>\n",
       "      <td>47.980057</td>\n",
       "    </tr>\n",
       "    <tr>\n",
       "      <th>2016-01-08</th>\n",
       "      <td>607.049988</td>\n",
       "      <td>714.469971</td>\n",
       "      <td>109.236893</td>\n",
       "      <td>48.127216</td>\n",
       "    </tr>\n",
       "  </tbody>\n",
       "</table>\n",
       "</div>"
      ],
      "text/plain": [
       "Symbols           AMZN        GOOG         IBM       MSFT\n",
       "Date                                                     \n",
       "2016-01-04  636.989990  741.840027  112.821960  50.398834\n",
       "2016-01-05  633.789978  742.580017  112.738976  50.628761\n",
       "2016-01-06  632.650024  743.619995  112.174667  49.709072\n",
       "2016-01-07  607.940002  726.390015  110.257637  47.980057\n",
       "2016-01-08  607.049988  714.469971  109.236893  48.127216"
      ]
     },
     "execution_count": 7,
     "metadata": {},
     "output_type": "execute_result"
    }
   ],
   "source": [
    "## Analysing Multiple Stocks\n",
    "tickers =['AMZN', 'GOOG', 'IBM', 'MSFT']\n",
    "comp_stocks_df = web.DataReader(tickers,'yahoo',start_date,end_date)['Adj Close']\n",
    "comp_stocks_df.head()\n",
    "                      "
   ]
  },
  {
   "cell_type": "code",
   "execution_count": 8,
   "metadata": {},
   "outputs": [
    {
     "data": {
      "text/html": [
       "<div>\n",
       "<style scoped>\n",
       "    .dataframe tbody tr th:only-of-type {\n",
       "        vertical-align: middle;\n",
       "    }\n",
       "\n",
       "    .dataframe tbody tr th {\n",
       "        vertical-align: top;\n",
       "    }\n",
       "\n",
       "    .dataframe thead th {\n",
       "        text-align: right;\n",
       "    }\n",
       "</style>\n",
       "<table border=\"1\" class=\"dataframe\">\n",
       "  <thead>\n",
       "    <tr style=\"text-align: right;\">\n",
       "      <th>Symbols</th>\n",
       "      <th>AMZN</th>\n",
       "      <th>GOOG</th>\n",
       "      <th>IBM</th>\n",
       "      <th>MSFT</th>\n",
       "    </tr>\n",
       "    <tr>\n",
       "      <th>Symbols</th>\n",
       "      <th></th>\n",
       "      <th></th>\n",
       "      <th></th>\n",
       "      <th></th>\n",
       "    </tr>\n",
       "  </thead>\n",
       "  <tbody>\n",
       "    <tr>\n",
       "      <th>AMZN</th>\n",
       "      <td>1.000000</td>\n",
       "      <td>0.671618</td>\n",
       "      <td>0.417589</td>\n",
       "      <td>0.673619</td>\n",
       "    </tr>\n",
       "    <tr>\n",
       "      <th>GOOG</th>\n",
       "      <td>0.671618</td>\n",
       "      <td>1.000000</td>\n",
       "      <td>0.541971</td>\n",
       "      <td>0.785751</td>\n",
       "    </tr>\n",
       "    <tr>\n",
       "      <th>IBM</th>\n",
       "      <td>0.417589</td>\n",
       "      <td>0.541971</td>\n",
       "      <td>1.000000</td>\n",
       "      <td>0.600830</td>\n",
       "    </tr>\n",
       "    <tr>\n",
       "      <th>MSFT</th>\n",
       "      <td>0.673619</td>\n",
       "      <td>0.785751</td>\n",
       "      <td>0.600830</td>\n",
       "      <td>1.000000</td>\n",
       "    </tr>\n",
       "  </tbody>\n",
       "</table>\n",
       "</div>"
      ],
      "text/plain": [
       "Symbols      AMZN      GOOG       IBM      MSFT\n",
       "Symbols                                        \n",
       "AMZN     1.000000  0.671618  0.417589  0.673619\n",
       "GOOG     0.671618  1.000000  0.541971  0.785751\n",
       "IBM      0.417589  0.541971  1.000000  0.600830\n",
       "MSFT     0.673619  0.785751  0.600830  1.000000"
      ]
     },
     "execution_count": 8,
     "metadata": {},
     "output_type": "execute_result"
    }
   ],
   "source": [
    "retscomp =comp_stocks_df.pct_change()\n",
    "corr = retscomp.corr()\n",
    "corr.head()\n"
   ]
  },
  {
   "cell_type": "code",
   "execution_count": 12,
   "metadata": {},
   "outputs": [
    {
     "ename": "SyntaxError",
     "evalue": "invalid character in identifier (<ipython-input-12-1a24eb7bc933>, line 2)",
     "output_type": "error",
     "traceback": [
      "\u001b[0;36m  File \u001b[0;32m\"<ipython-input-12-1a24eb7bc933>\"\u001b[0;36m, line \u001b[0;32m2\u001b[0m\n\u001b[0;31m    plt.xlabel(‘Returns MSFT’)\u001b[0m\n\u001b[0m                      ^\u001b[0m\n\u001b[0;31mSyntaxError\u001b[0m\u001b[0;31m:\u001b[0m invalid character in identifier\n"
     ]
    }
   ],
   "source": [
    "plt.scatter(retscomp.AMZN, retscomp.MSFT)\n",
    "plt.xlabel(‘Returns MSFT’)\n",
    "plt.ylabel(‘Returns AMZN’)\n",
    "\n",
    "plt.title('Scatter Plot of AMZN and MSFT')\n",
    "plt.legend()\n",
    "plt.show()\n"
   ]
  },
  {
   "cell_type": "code",
   "execution_count": null,
   "metadata": {},
   "outputs": [],
   "source": [
    "#pd.scatter_matrix(retscomp, diagonal='kde', figsize=(10, 10));"
   ]
  },
  {
   "cell_type": "code",
   "execution_count": null,
   "metadata": {},
   "outputs": [],
   "source": [
    "plt.imshow(corr, cmap='hot', interpolation='none')\n",
    "plt.colorbar()\n",
    "plt.xticks(range(len(corr)), corr.columns)\n",
    "plt.yticks(range(len(corr)), corr.columns);"
   ]
  },
  {
   "cell_type": "code",
   "execution_count": null,
   "metadata": {},
   "outputs": [],
   "source": [
    "plt.scatter(retscomp.mean(), retscomp.std())\n",
    "plt.xlabel('Expected returns')\n",
    "plt.ylabel('Risk')\n",
    "for label, x, y in zip(retscomp.columns, retscomp.mean(), retscomp.std()):\n",
    "    plt.annotate(\n",
    "        label, \n",
    "        xy = (x, y), xytext = (20, -20),\n",
    "        textcoords = 'offset points', ha = 'right', va = 'bottom',\n",
    "        bbox = dict(boxstyle = 'round,pad=0.5', fc = 'yellow', alpha = 0.5),\n",
    "        arrowprops = dict(arrowstyle = '->', connectionstyle = 'arc3,rad=0'))"
   ]
  },
  {
   "cell_type": "code",
   "execution_count": null,
   "metadata": {},
   "outputs": [],
   "source": [
    "dfreg =stocks_df.loc[:,[‘Adj Close’,’Volume’]]\n",
    "dfreg[‘HL_PCT’] = (stocks_df[‘High’] — stocks_df[‘Low’]) / stocks_df[‘Close’] * 100.0\n",
    "dfreg[‘PCT_change’] = (stocks_df[‘Close’] — stocks_df[‘Open’]) / stocks_df[‘Open’] * 100.0\n",
    "dfreg\n",
    "\n"
   ]
  },
  {
   "cell_type": "code",
   "execution_count": null,
   "metadata": {},
   "outputs": [],
   "source": [
    "last_date = dfreg.iloc[-1].name\n",
    "last_unix = last_date\n",
    "next_unix = last_unix + datetime.timedelta(days=1)\n",
    "\n",
    "for i in forecast_set:\n",
    "    next_date = next_unix\n",
    "    next_unix += datetime.timedelta(days=1)\n",
    "    dfreg.loc[next_date] = [np.nan for _ in range(len(dfreg.columns)-1)]+[i]\n",
    "dfreg['Adj Close'].tail(500).plot()\n",
    "dfreg['Forecast'].tail(500).plot()\n",
    "plt.legend(loc=4)\n",
    "plt.xlabel('Date')\n",
    "plt.ylabel('Price')\n",
    "plt.show()"
   ]
  },
  {
   "cell_type": "code",
   "execution_count": null,
   "metadata": {},
   "outputs": [],
   "source": []
  }
 ],
 "metadata": {
  "anaconda-cloud": {},
  "kernel_info": {
   "name": "python3"
  },
  "kernelspec": {
   "display_name": "Python 3",
   "language": "python",
   "name": "python3"
  },
  "language_info": {
   "codemirror_mode": {
    "name": "ipython",
    "version": 3
   },
   "file_extension": ".py",
   "mimetype": "text/x-python",
   "name": "python",
   "nbconvert_exporter": "python",
   "pygments_lexer": "ipython3",
   "version": "3.6.9"
  },
  "latex_envs": {
   "LaTeX_envs_menu_present": true,
   "autoclose": false,
   "autocomplete": true,
   "bibliofile": "biblio.bib",
   "cite_by": "apalike",
   "current_citInitial": 1,
   "eqLabelWithNumbers": true,
   "eqNumInitial": 1,
   "hotkeys": {
    "equation": "Ctrl-E",
    "itemize": "Ctrl-I"
   },
   "labels_anchors": false,
   "latex_user_defs": false,
   "report_style_numbering": false,
   "user_envs_cfg": false
  },
  "nteract": {
   "version": "0.8.4"
  }
 },
 "nbformat": 4,
 "nbformat_minor": 1
}
