{
 "cells": [
  {
   "cell_type": "code",
   "execution_count": 132,
   "metadata": {},
   "outputs": [],
   "source": [
    "# Importing dependencies\n",
    "import math \n",
    "import numpy as np\n",
    "import pandas as pd\n",
    "import datetime\n",
    "from pandas import Series, DataFrame\n",
    "## Note: Install pandas_datareader\n",
    "## pip install pandas-datareader\n",
    "import pandas_datareader.data as web\n",
    "%matplotlib inline\n",
    "import matplotlib as mpl\n",
    "import matplotlib.pyplot as plt\n",
    "from matplotlib import style\n",
    "\n",
    "from sklearn.linear_model import LinearRegression\n",
    "from sklearn.neighbors import KNeighborsRegressor\n",
    "\n",
    "from sklearn.linear_model import Ridge\n",
    "from sklearn.preprocessing import PolynomialFeatures\n",
    "from sklearn.pipeline import make_pipeline\n",
    "from sklearn.model_selection import train_test_split\n"
   ]
  },
  {
   "cell_type": "code",
   "execution_count": 133,
   "metadata": {},
   "outputs": [
    {
     "data": {
      "text/html": [
       "<div>\n",
       "<style scoped>\n",
       "    .dataframe tbody tr th:only-of-type {\n",
       "        vertical-align: middle;\n",
       "    }\n",
       "\n",
       "    .dataframe tbody tr th {\n",
       "        vertical-align: top;\n",
       "    }\n",
       "\n",
       "    .dataframe thead th {\n",
       "        text-align: right;\n",
       "    }\n",
       "</style>\n",
       "<table border=\"1\" class=\"dataframe\">\n",
       "  <thead>\n",
       "    <tr style=\"text-align: right;\">\n",
       "      <th></th>\n",
       "      <th>High</th>\n",
       "      <th>Low</th>\n",
       "      <th>Open</th>\n",
       "      <th>Close</th>\n",
       "      <th>Volume</th>\n",
       "      <th>Adj Close</th>\n",
       "    </tr>\n",
       "    <tr>\n",
       "      <th>Date</th>\n",
       "      <th></th>\n",
       "      <th></th>\n",
       "      <th></th>\n",
       "      <th></th>\n",
       "      <th></th>\n",
       "      <th></th>\n",
       "    </tr>\n",
       "  </thead>\n",
       "  <tbody>\n",
       "    <tr>\n",
       "      <th>2020-05-04</th>\n",
       "      <td>205.910004</td>\n",
       "      <td>198.759995</td>\n",
       "      <td>200.199997</td>\n",
       "      <td>205.259995</td>\n",
       "      <td>19250700</td>\n",
       "      <td>205.259995</td>\n",
       "    </tr>\n",
       "    <tr>\n",
       "      <th>2020-05-05</th>\n",
       "      <td>210.380005</td>\n",
       "      <td>206.500000</td>\n",
       "      <td>207.020004</td>\n",
       "      <td>207.070007</td>\n",
       "      <td>21071200</td>\n",
       "      <td>207.070007</td>\n",
       "    </tr>\n",
       "    <tr>\n",
       "      <th>2020-05-06</th>\n",
       "      <td>211.600006</td>\n",
       "      <td>206.660004</td>\n",
       "      <td>208.119995</td>\n",
       "      <td>208.470001</td>\n",
       "      <td>21857000</td>\n",
       "      <td>208.470001</td>\n",
       "    </tr>\n",
       "    <tr>\n",
       "      <th>2020-05-07</th>\n",
       "      <td>211.600006</td>\n",
       "      <td>209.039993</td>\n",
       "      <td>211.160004</td>\n",
       "      <td>211.259995</td>\n",
       "      <td>15152000</td>\n",
       "      <td>211.259995</td>\n",
       "    </tr>\n",
       "    <tr>\n",
       "      <th>2020-05-08</th>\n",
       "      <td>213.210007</td>\n",
       "      <td>210.850006</td>\n",
       "      <td>212.240005</td>\n",
       "      <td>212.350006</td>\n",
       "      <td>12506000</td>\n",
       "      <td>212.350006</td>\n",
       "    </tr>\n",
       "  </tbody>\n",
       "</table>\n",
       "</div>"
      ],
      "text/plain": [
       "                  High         Low        Open       Close    Volume  \\\n",
       "Date                                                                   \n",
       "2020-05-04  205.910004  198.759995  200.199997  205.259995  19250700   \n",
       "2020-05-05  210.380005  206.500000  207.020004  207.070007  21071200   \n",
       "2020-05-06  211.600006  206.660004  208.119995  208.470001  21857000   \n",
       "2020-05-07  211.600006  209.039993  211.160004  211.259995  15152000   \n",
       "2020-05-08  213.210007  210.850006  212.240005  212.350006  12506000   \n",
       "\n",
       "             Adj Close  \n",
       "Date                    \n",
       "2020-05-04  205.259995  \n",
       "2020-05-05  207.070007  \n",
       "2020-05-06  208.470001  \n",
       "2020-05-07  211.259995  \n",
       "2020-05-08  212.350006  "
      ]
     },
     "execution_count": 133,
     "metadata": {},
     "output_type": "execute_result"
    }
   ],
   "source": [
    "## Loading Yahoo Finance data set form 2016\n",
    "# Get start and end dates \n",
    "start_date = datetime.datetime(2016, 1, 1)\n",
    "## Select today's date as end date\n",
    "end_date = datetime.datetime.now().date().isoformat() \n",
    "\n",
    "stocks_df = web.DataReader('FB', 'yahoo', start_date, end_date)\n",
    "\n",
    "# Displaying letest 5 records\n",
    "stocks_df.tail()"
   ]
  },
  {
   "cell_type": "code",
   "execution_count": 134,
   "metadata": {},
   "outputs": [
    {
     "data": {
      "text/plain": [
       "Date\n",
       "2016-01-04    102.220001\n",
       "2016-01-05    102.730003\n",
       "2016-01-06    102.970001\n",
       "2016-01-07     97.919998\n",
       "2016-01-08     97.330002\n",
       "Name: Adj Close, dtype: float64"
      ]
     },
     "execution_count": 134,
     "metadata": {},
     "output_type": "execute_result"
    }
   ],
   "source": [
    "## Getting Final Closing price\n",
    "closing_price_df= stocks_df['Adj Close']\n",
    "\n",
    "closing_price_df.index = pd.to_datetime(closing_price_df.index)\n",
    "\n",
    "closing_price_df.tail()\n",
    "\n",
    "closing_price_df.head()"
   ]
  },
  {
   "cell_type": "code",
   "execution_count": 135,
   "metadata": {},
   "outputs": [
    {
     "data": {
      "text/plain": [
       "Date\n",
       "2016-03-15    103.8656\n",
       "2016-03-16    104.0648\n",
       "2016-03-17    104.2306\n",
       "2016-03-18    104.4002\n",
       "2016-03-21    104.6788\n",
       "Name: Adj Close, dtype: float64"
      ]
     },
     "execution_count": 135,
     "metadata": {},
     "output_type": "execute_result"
    }
   ],
   "source": [
    "## Calculate 50 day Moving Average\n",
    "ma_50day= closing_price_df.rolling(window=50).mean()\n",
    "\n",
    "ma_50day.index = pd.to_datetime(ma_50day.index)\n",
    "\n",
    "## Removing NULL Coulumns\n",
    "ma_50day.dropna(inplace=True)\n",
    "ma_50day.head()\n",
    "\n",
    "ma_50day.head()"
   ]
  },
  {
   "cell_type": "code",
   "execution_count": 136,
   "metadata": {},
   "outputs": [
    {
     "data": {
      "text/plain": [
       "Date\n",
       "2016-10-17    115.85225\n",
       "2016-10-18    115.98400\n",
       "2016-10-19    116.12090\n",
       "2016-10-20    116.25605\n",
       "2016-10-21    116.42680\n",
       "Name: Adj Close, dtype: float64"
      ]
     },
     "execution_count": 136,
     "metadata": {},
     "output_type": "execute_result"
    }
   ],
   "source": [
    "## Calculate 200 day Moving Average\n",
    "ma_200day= closing_price_df.rolling(window=200).mean()\n",
    "\n",
    "ma_200day.index = pd.to_datetime(ma_200day.index)\n",
    "\n",
    "## Removing NULL Coulumns\n",
    "ma_200day.dropna(inplace=True)\n",
    "ma_200day.head()\n",
    "\n",
    "ma_200day.head()"
   ]
  },
  {
   "cell_type": "code",
   "execution_count": 137,
   "metadata": {},
   "outputs": [
    {
     "data": {
      "image/png": "[encoded data removed]",
      "text/plain": [
       "<Figure size 864x432 with 1 Axes>"
      ]
     },
     "metadata": {
      "needs_background": "light"
     },
     "output_type": "display_data"
    }
   ],
   "source": [
    "## Displaying Closing Price and Moving Average in Charts\n",
    "\n",
    "#The size for our chart:\n",
    "plt.figure(figsize = (12,6))\n",
    "#Plotting price and SMA lines:\n",
    "plt.plot(closing_price_df, label='Adj Closing Price', linewidth = 2)\n",
    "plt.plot(ma_50day, label='50 Day SMA', linewidth = 1.5)\n",
    "plt.plot(ma_200day, label='200 Day SMA', linewidth = 1.5)\n",
    "#Adding title and labeles on the axes, making legend visible:\n",
    "plt.xlabel('Date')\n",
    "plt.ylabel('Adjusted Closing Price ($)')\n",
    "plt.title('Simple Moving Average')\n",
    "plt.legend()\n",
    "plt.show()"
   ]
  },
  {
   "cell_type": "code",
   "execution_count": 138,
   "metadata": {},
   "outputs": [
    {
     "data": {
      "image/png": "[encoded data removed]",
      "text/plain": [
       "<Figure size 432x288 with 1 Axes>"
      ]
     },
     "metadata": {
      "needs_background": "light"
     },
     "output_type": "display_data"
    }
   ],
   "source": [
    "rets = closing_price_df / closing_price_df.shift(1) - 1\n",
    "rets.plot(label='return')\n",
    "plt.show()"
   ]
  },
  {
   "cell_type": "code",
   "execution_count": 139,
   "metadata": {},
   "outputs": [
    {
     "data": {
      "text/html": [
       "<div>\n",
       "<style scoped>\n",
       "    .dataframe tbody tr th:only-of-type {\n",
       "        vertical-align: middle;\n",
       "    }\n",
       "\n",
       "    .dataframe tbody tr th {\n",
       "        vertical-align: top;\n",
       "    }\n",
       "\n",
       "    .dataframe thead th {\n",
       "        text-align: right;\n",
       "    }\n",
       "</style>\n",
       "<table border=\"1\" class=\"dataframe\">\n",
       "  <thead>\n",
       "    <tr style=\"text-align: right;\">\n",
       "      <th>Symbols</th>\n",
       "      <th>AMZN</th>\n",
       "      <th>GOOG</th>\n",
       "      <th>IBM</th>\n",
       "      <th>MSFT</th>\n",
       "    </tr>\n",
       "    <tr>\n",
       "      <th>Date</th>\n",
       "      <th></th>\n",
       "      <th></th>\n",
       "      <th></th>\n",
       "      <th></th>\n",
       "    </tr>\n",
       "  </thead>\n",
       "  <tbody>\n",
       "    <tr>\n",
       "      <th>2016-01-04</th>\n",
       "      <td>636.989990</td>\n",
       "      <td>741.840027</td>\n",
       "      <td>111.328911</td>\n",
       "      <td>50.398834</td>\n",
       "    </tr>\n",
       "    <tr>\n",
       "      <th>2016-01-05</th>\n",
       "      <td>633.789978</td>\n",
       "      <td>742.580017</td>\n",
       "      <td>111.247025</td>\n",
       "      <td>50.628761</td>\n",
       "    </tr>\n",
       "    <tr>\n",
       "      <th>2016-01-06</th>\n",
       "      <td>632.650024</td>\n",
       "      <td>743.619995</td>\n",
       "      <td>110.690163</td>\n",
       "      <td>49.709072</td>\n",
       "    </tr>\n",
       "    <tr>\n",
       "      <th>2016-01-07</th>\n",
       "      <td>607.940002</td>\n",
       "      <td>726.390015</td>\n",
       "      <td>108.798515</td>\n",
       "      <td>47.980057</td>\n",
       "    </tr>\n",
       "    <tr>\n",
       "      <th>2016-01-08</th>\n",
       "      <td>607.049988</td>\n",
       "      <td>714.469971</td>\n",
       "      <td>107.791267</td>\n",
       "      <td>48.127216</td>\n",
       "    </tr>\n",
       "  </tbody>\n",
       "</table>\n",
       "</div>"
      ],
      "text/plain": [
       "Symbols           AMZN        GOOG         IBM       MSFT\n",
       "Date                                                     \n",
       "2016-01-04  636.989990  741.840027  111.328911  50.398834\n",
       "2016-01-05  633.789978  742.580017  111.247025  50.628761\n",
       "2016-01-06  632.650024  743.619995  110.690163  49.709072\n",
       "2016-01-07  607.940002  726.390015  108.798515  47.980057\n",
       "2016-01-08  607.049988  714.469971  107.791267  48.127216"
      ]
     },
     "execution_count": 139,
     "metadata": {},
     "output_type": "execute_result"
    }
   ],
   "source": [
    "## Analysing Multiple Stocks\n",
    "tickers =['AMZN', 'GOOG', 'IBM', 'MSFT']\n",
    "comp_stocks_df = web.DataReader(tickers,'yahoo',start_date,end_date)['Adj Close']\n",
    "comp_stocks_df.head()\n",
    "                      "
   ]
  },
  {
   "cell_type": "code",
   "execution_count": 140,
   "metadata": {},
   "outputs": [
    {
     "data": {
      "text/html": [
       "<div>\n",
       "<style scoped>\n",
       "    .dataframe tbody tr th:only-of-type {\n",
       "        vertical-align: middle;\n",
       "    }\n",
       "\n",
       "    .dataframe tbody tr th {\n",
       "        vertical-align: top;\n",
       "    }\n",
       "\n",
       "    .dataframe thead th {\n",
       "        text-align: right;\n",
       "    }\n",
       "</style>\n",
       "<table border=\"1\" class=\"dataframe\">\n",
       "  <thead>\n",
       "    <tr style=\"text-align: right;\">\n",
       "      <th>Symbols</th>\n",
       "      <th>AMZN</th>\n",
       "      <th>GOOG</th>\n",
       "      <th>IBM</th>\n",
       "      <th>MSFT</th>\n",
       "    </tr>\n",
       "    <tr>\n",
       "      <th>Symbols</th>\n",
       "      <th></th>\n",
       "      <th></th>\n",
       "      <th></th>\n",
       "      <th></th>\n",
       "    </tr>\n",
       "  </thead>\n",
       "  <tbody>\n",
       "    <tr>\n",
       "      <th>AMZN</th>\n",
       "      <td>1.000000</td>\n",
       "      <td>0.670811</td>\n",
       "      <td>0.417543</td>\n",
       "      <td>0.673639</td>\n",
       "    </tr>\n",
       "    <tr>\n",
       "      <th>GOOG</th>\n",
       "      <td>0.670811</td>\n",
       "      <td>1.000000</td>\n",
       "      <td>0.541744</td>\n",
       "      <td>0.785348</td>\n",
       "    </tr>\n",
       "    <tr>\n",
       "      <th>IBM</th>\n",
       "      <td>0.417543</td>\n",
       "      <td>0.541744</td>\n",
       "      <td>1.000000</td>\n",
       "      <td>0.600866</td>\n",
       "    </tr>\n",
       "    <tr>\n",
       "      <th>MSFT</th>\n",
       "      <td>0.673639</td>\n",
       "      <td>0.785348</td>\n",
       "      <td>0.600866</td>\n",
       "      <td>1.000000</td>\n",
       "    </tr>\n",
       "  </tbody>\n",
       "</table>\n",
       "</div>"
      ],
      "text/plain": [
       "Symbols      AMZN      GOOG       IBM      MSFT\n",
       "Symbols                                        \n",
       "AMZN     1.000000  0.670811  0.417543  0.673639\n",
       "GOOG     0.670811  1.000000  0.541744  0.785348\n",
       "IBM      0.417543  0.541744  1.000000  0.600866\n",
       "MSFT     0.673639  0.785348  0.600866  1.000000"
      ]
     },
     "execution_count": 140,
     "metadata": {},
     "output_type": "execute_result"
    }
   ],
   "source": [
    "retscomp =comp_stocks_df.pct_change()\n",
    "corr = retscomp.corr()\n",
    "corr.head()\n"
   ]
  },
  {
   "cell_type": "code",
   "execution_count": 141,
   "metadata": {},
   "outputs": [
    {
     "ename": "SyntaxError",
     "evalue": "invalid character in identifier (<ipython-input-141-1a24eb7bc933>, line 2)",
     "output_type": "error",
     "traceback": [
      "\u001b[0;36m  File \u001b[0;32m\"<ipython-input-141-1a24eb7bc933>\"\u001b[0;36m, line \u001b[0;32m2\u001b[0m\n\u001b[0;31m    plt.xlabel(‘Returns MSFT’)\u001b[0m\n\u001b[0m                      ^\u001b[0m\n\u001b[0;31mSyntaxError\u001b[0m\u001b[0;31m:\u001b[0m invalid character in identifier\n"
     ]
    }
   ],
   "source": [
    "plt.scatter(retscomp.AMZN, retscomp.MSFT)\n",
    "plt.xlabel(‘Returns MSFT’)\n",
    "plt.ylabel(‘Returns AMZN’)\n",
    "\n",
    "plt.title('Scatter Plot of AMZN and MSFT')\n",
    "plt.legend()\n",
    "plt.show()\n"
   ]
  },
  {
   "cell_type": "code",
   "execution_count": null,
   "metadata": {},
   "outputs": [],
   "source": [
    "#pd.scatter_matrix(retscomp, diagonal='kde', figsize=(10, 10));"
   ]
  },
  {
   "cell_type": "code",
   "execution_count": null,
   "metadata": {},
   "outputs": [],
   "source": [
    "plt.imshow(corr, cmap='hot', interpolation='none')\n",
    "plt.colorbar()\n",
    "plt.xticks(range(len(corr)), corr.columns)\n",
    "plt.yticks(range(len(corr)), corr.columns);"
   ]
  },
  {
   "cell_type": "code",
   "execution_count": null,
   "metadata": {},
   "outputs": [],
   "source": [
    "plt.scatter(retscomp.mean(), retscomp.std())\n",
    "plt.xlabel('Expected returns')\n",
    "plt.ylabel('Risk')\n",
    "for label, x, y in zip(retscomp.columns, retscomp.mean(), retscomp.std()):\n",
    "    plt.annotate(\n",
    "        label, \n",
    "        xy = (x, y), xytext = (20, -20),\n",
    "        textcoords = 'offset points', ha = 'right', va = 'bottom',\n",
    "        bbox = dict(boxstyle = 'round,pad=0.5', fc = 'yellow', alpha = 0.5),\n",
    "        arrowprops = dict(arrowstyle = '->', connectionstyle = 'arc3,rad=0'))"
   ]
  },
  {
   "cell_type": "code",
   "execution_count": null,
   "metadata": {},
   "outputs": [],
   "source": [
    "#Predicting Stock prices "
   ]
  },
  {
   "cell_type": "code",
   "execution_count": 142,
   "metadata": {},
   "outputs": [
    {
     "data": {
      "text/html": [
       "<div>\n",
       "<style scoped>\n",
       "    .dataframe tbody tr th:only-of-type {\n",
       "        vertical-align: middle;\n",
       "    }\n",
       "\n",
       "    .dataframe tbody tr th {\n",
       "        vertical-align: top;\n",
       "    }\n",
       "\n",
       "    .dataframe thead th {\n",
       "        text-align: right;\n",
       "    }\n",
       "</style>\n",
       "<table border=\"1\" class=\"dataframe\">\n",
       "  <thead>\n",
       "    <tr style=\"text-align: right;\">\n",
       "      <th></th>\n",
       "      <th>Adj Close</th>\n",
       "      <th>Volume</th>\n",
       "      <th>HL_PCT</th>\n",
       "      <th>PCT_change</th>\n",
       "    </tr>\n",
       "    <tr>\n",
       "      <th>Date</th>\n",
       "      <th></th>\n",
       "      <th></th>\n",
       "      <th></th>\n",
       "      <th></th>\n",
       "    </tr>\n",
       "  </thead>\n",
       "  <tbody>\n",
       "    <tr>\n",
       "      <th>2016-01-04</th>\n",
       "      <td>102.220001</td>\n",
       "      <td>37912400</td>\n",
       "      <td>2.435920</td>\n",
       "      <td>0.264840</td>\n",
       "    </tr>\n",
       "    <tr>\n",
       "      <th>2016-01-05</th>\n",
       "      <td>102.730003</td>\n",
       "      <td>23258200</td>\n",
       "      <td>1.985789</td>\n",
       "      <td>-0.155502</td>\n",
       "    </tr>\n",
       "    <tr>\n",
       "      <th>2016-01-06</th>\n",
       "      <td>102.970001</td>\n",
       "      <td>25096200</td>\n",
       "      <td>2.787215</td>\n",
       "      <td>1.819444</td>\n",
       "    </tr>\n",
       "    <tr>\n",
       "      <th>2016-01-07</th>\n",
       "      <td>97.919998</td>\n",
       "      <td>45172900</td>\n",
       "      <td>4.217726</td>\n",
       "      <td>-2.567166</td>\n",
       "    </tr>\n",
       "    <tr>\n",
       "      <th>2016-01-08</th>\n",
       "      <td>97.330002</td>\n",
       "      <td>35402300</td>\n",
       "      <td>3.565192</td>\n",
       "      <td>-2.553059</td>\n",
       "    </tr>\n",
       "    <tr>\n",
       "      <th>...</th>\n",
       "      <td>...</td>\n",
       "      <td>...</td>\n",
       "      <td>...</td>\n",
       "      <td>...</td>\n",
       "    </tr>\n",
       "    <tr>\n",
       "      <th>2020-05-04</th>\n",
       "      <td>205.259995</td>\n",
       "      <td>19250700</td>\n",
       "      <td>3.483391</td>\n",
       "      <td>2.527471</td>\n",
       "    </tr>\n",
       "    <tr>\n",
       "      <th>2020-05-05</th>\n",
       "      <td>207.070007</td>\n",
       "      <td>21071200</td>\n",
       "      <td>1.873765</td>\n",
       "      <td>0.024154</td>\n",
       "    </tr>\n",
       "    <tr>\n",
       "      <th>2020-05-06</th>\n",
       "      <td>208.470001</td>\n",
       "      <td>21857000</td>\n",
       "      <td>2.369647</td>\n",
       "      <td>0.168175</td>\n",
       "    </tr>\n",
       "    <tr>\n",
       "      <th>2020-05-07</th>\n",
       "      <td>211.259995</td>\n",
       "      <td>15152000</td>\n",
       "      <td>1.211783</td>\n",
       "      <td>0.047353</td>\n",
       "    </tr>\n",
       "    <tr>\n",
       "      <th>2020-05-08</th>\n",
       "      <td>212.350006</td>\n",
       "      <td>12506000</td>\n",
       "      <td>1.111373</td>\n",
       "      <td>0.051828</td>\n",
       "    </tr>\n",
       "  </tbody>\n",
       "</table>\n",
       "<p>1095 rows × 4 columns</p>\n",
       "</div>"
      ],
      "text/plain": [
       "             Adj Close    Volume    HL_PCT  PCT_change\n",
       "Date                                                  \n",
       "2016-01-04  102.220001  37912400  2.435920    0.264840\n",
       "2016-01-05  102.730003  23258200  1.985789   -0.155502\n",
       "2016-01-06  102.970001  25096200  2.787215    1.819444\n",
       "2016-01-07   97.919998  45172900  4.217726   -2.567166\n",
       "2016-01-08   97.330002  35402300  3.565192   -2.553059\n",
       "...                ...       ...       ...         ...\n",
       "2020-05-04  205.259995  19250700  3.483391    2.527471\n",
       "2020-05-05  207.070007  21071200  1.873765    0.024154\n",
       "2020-05-06  208.470001  21857000  2.369647    0.168175\n",
       "2020-05-07  211.259995  15152000  1.211783    0.047353\n",
       "2020-05-08  212.350006  12506000  1.111373    0.051828\n",
       "\n",
       "[1095 rows x 4 columns]"
      ]
     },
     "execution_count": 142,
     "metadata": {},
     "output_type": "execute_result"
    }
   ],
   "source": [
    "#high low percentage \n",
    "dfreg = stocks_df.loc[:,['Adj Close','Volume']]\n",
    "dfreg['HL_PCT'] = (stocks_df['High'] - stocks_df['Low']) / stocks_df['Close'] *100.0\n",
    "#percentage change \n",
    "dfreg['PCT_change'] = (stocks_df['Close'] - stocks_df['Open']) / stocks_df['Open']  * 100.0\n",
    "dfreg"
   ]
  },
  {
   "cell_type": "code",
   "execution_count": 143,
   "metadata": {},
   "outputs": [],
   "source": [
    "#drop missing value \n",
    "dfreg.fillna(value=99999, inplace = True)\n",
    "forecast_out = int(math.ceil(0.01*len(dfreg)))\n",
    "\n",
    "forecast_col = 'Adj Close'\n",
    "dfreg['label'] = dfreg[forecast_col].shift(-forecast_out)\n",
    "X = np.array(dfreg.drop(['label'], 1))\n",
    "\n",
    "#linear regression\n",
    "#X = preprocessing.scale(X)\n",
    "\n",
    "#train for model generation and evaluation \n",
    "X_lately = X[-forecast_out:]\n",
    "X = X[:-forecast_out]\n",
    "\n",
    "y = np.array(dfreg['label'])\n",
    "y = y[:-forecast_out]"
   ]
  },
  {
   "cell_type": "code",
   "execution_count": 146,
   "metadata": {},
   "outputs": [
    {
     "name": "stderr",
     "output_type": "stream",
     "text": [
      "/Users/janiceambrose/anaconda3/envs/PythonData/lib/python3.6/site-packages/sklearn/linear_model/_ridge.py:148: LinAlgWarning: Ill-conditioned matrix (rcond=5.70962e-34): result may not be accurate.\n",
      "  overwrite_a=True).T\n",
      "/Users/janiceambrose/anaconda3/envs/PythonData/lib/python3.6/site-packages/sklearn/linear_model/_ridge.py:148: LinAlgWarning: Ill-conditioned matrix (rcond=3.04349e-50): result may not be accurate.\n",
      "  overwrite_a=True).T\n"
     ]
    },
    {
     "data": {
      "text/plain": [
       "Pipeline(memory=None,\n",
       "         steps=[('polynomialfeatures',\n",
       "                 PolynomialFeatures(degree=3, include_bias=True,\n",
       "                                    interaction_only=False, order='C')),\n",
       "                ('ridge',\n",
       "                 Ridge(alpha=1.0, copy_X=True, fit_intercept=True,\n",
       "                       max_iter=None, normalize=False, random_state=None,\n",
       "                       solver='auto', tol=0.001))],\n",
       "         verbose=False)"
      ]
     },
     "execution_count": 146,
     "metadata": {},
     "output_type": "execute_result"
    }
   ],
   "source": [
    "X_train, X_test, y_train, y_test = train_test_split(X, y, test_size=0.33, random_state=42)\n",
    "#linear regression\n",
    "clfreg = LinearRegression(n_jobs=-1)\n",
    "clfreg.fit(X_train, y_train)\n",
    "#quadratic regression\n",
    "clfpoly2 = make_pipeline(PolynomialFeatures(2), Ridge())\n",
    "clfpoly2.fit(X_train, y_train)\n",
    "\n",
    "clfpoly3 = make_pipeline(PolynomialFeatures(3), Ridge())\n",
    "clfpoly3.fit(X_train, y_train)"
   ]
  },
  {
   "cell_type": "code",
   "execution_count": 147,
   "metadata": {},
   "outputs": [
    {
     "data": {
      "text/plain": [
       "KNeighborsRegressor(algorithm='auto', leaf_size=30, metric='minkowski',\n",
       "                    metric_params=None, n_jobs=None, n_neighbors=2, p=2,\n",
       "                    weights='uniform')"
      ]
     },
     "execution_count": 147,
     "metadata": {},
     "output_type": "execute_result"
    }
   ],
   "source": [
    "#KNN Regression \n",
    "clfknn = KNeighborsRegressor(n_neighbors=2)\n",
    "clfknn.fit(X_train, y_train)\n"
   ]
  },
  {
   "cell_type": "code",
   "execution_count": 151,
   "metadata": {},
   "outputs": [
    {
     "data": {
      "text/plain": [
       "0.902640115386445"
      ]
     },
     "execution_count": 151,
     "metadata": {},
     "output_type": "execute_result"
    }
   ],
   "source": [
    "#evaluation \n",
    "conf_reg = clfreg.score(X_test, y_test)\n",
    "confpoly2 = clfpoly2.score(X_test, y_test)\n",
    "confpoly3 = clfpoly3.score(X_test, y_test)\n",
    "confidenceknn = clfknn.score(X_test, y_test)\n"
   ]
  },
  {
   "cell_type": "code",
   "execution_count": 155,
   "metadata": {},
   "outputs": [
    {
     "data": {
      "text/plain": [
       "array([191.54990963, 188.1837365 , 185.22907692, 191.73701731,\n",
       "       202.68987939, 201.99275306, 204.57470538, 204.22774733,\n",
       "       206.14309605, 207.74508456, 208.88960301])"
      ]
     },
     "execution_count": 155,
     "metadata": {},
     "output_type": "execute_result"
    }
   ],
   "source": [
    "forecast_set = clfreg.predict(X_lately)\n",
    "dfreg['Forecast'] = np.nan\n",
    "forecast_set"
   ]
  },
  {
   "cell_type": "code",
   "execution_count": 157,
   "metadata": {},
   "outputs": [
    {
     "data": {
      "image/png": "[encoded data removed]",
      "text/plain": [
       "<Figure size 432x288 with 1 Axes>"
      ]
     },
     "metadata": {
      "needs_background": "light"
     },
     "output_type": "display_data"
    }
   ],
   "source": [
    "#plotting prediciton \n",
    "last_date = dfreg.iloc[-1].name\n",
    "last_unix = last_date\n",
    "next_unix = last_unix + datetime.timedelta(days=1)\n",
    "\n",
    "for i in forecast_set:\n",
    "    next_date = next_unix\n",
    "    next_unix += datetime.timedelta(days=1)\n",
    "    dfreg.loc[next_date] = [np.nan for _ in range(len(dfreg.columns)-1)]+[i]\n",
    "dfreg['Adj Close'].tail(500).plot()\n",
    "dfreg['Forecast'].tail(500).plot()\n",
    "plt.legend(loc=4)\n",
    "plt.xlabel('Date')\n",
    "plt.ylabel('Price')\n",
    "plt.show()"
   ]
  },
  {
   "cell_type": "code",
   "execution_count": 123,
   "metadata": {},
   "outputs": [],
   "source": []
  },
  {
   "cell_type": "code",
   "execution_count": null,
   "metadata": {},
   "outputs": [],
   "source": []
  },
  {
   "cell_type": "code",
   "execution_count": null,
   "metadata": {},
   "outputs": [],
   "source": []
  }
 ],
 "metadata": {
  "anaconda-cloud": {},
  "kernel_info": {
   "name": "python3"
  },
  "kernelspec": {
   "display_name": "PythonData",
   "language": "python",
   "name": "pythondata"
  },
  "language_info": {
   "codemirror_mode": {
    "name": "ipython",
    "version": 3
   },
   "file_extension": ".py",
   "mimetype": "text/x-python",
   "name": "python",
   "nbconvert_exporter": "python",
   "pygments_lexer": "ipython3",
   "version": "3.6.2"
  },
  "latex_envs": {
   "LaTeX_envs_menu_present": true,
   "autoclose": false,
   "autocomplete": true,
   "bibliofile": "biblio.bib",
   "cite_by": "apalike",
   "current_citInitial": 1,
   "eqLabelWithNumbers": true,
   "eqNumInitial": 1,
   "hotkeys": {
    "equation": "Ctrl-E",
    "itemize": "Ctrl-I"
   },
   "labels_anchors": false,
   "latex_user_defs": false,
   "report_style_numbering": false,
   "user_envs_cfg": false
  },
  "nteract": {
   "version": "0.8.4"
  }
 },
 "nbformat": 4,
 "nbformat_minor": 1
}
